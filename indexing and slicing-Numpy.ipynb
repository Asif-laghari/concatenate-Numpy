{
 "cells": [
  {
   "cell_type": "code",
   "execution_count": 1,
   "metadata": {},
   "outputs": [],
   "source": [
    "import numpy as np"
   ]
  },
  {
   "cell_type": "code",
   "execution_count": 2,
   "metadata": {},
   "outputs": [],
   "source": [
    "x=np.array([1,3,4,5,6])"
   ]
  },
  {
   "cell_type": "code",
   "execution_count": 3,
   "metadata": {},
   "outputs": [
    {
     "data": {
      "text/plain": [
       "6"
      ]
     },
     "execution_count": 3,
     "metadata": {},
     "output_type": "execute_result"
    }
   ],
   "source": [
    "x[4]"
   ]
  },
  {
   "cell_type": "code",
   "execution_count": 4,
   "metadata": {},
   "outputs": [
    {
     "data": {
      "text/plain": [
       "array([4, 5, 6])"
      ]
     },
     "execution_count": 4,
     "metadata": {},
     "output_type": "execute_result"
    }
   ],
   "source": [
    "x[x>3]"
   ]
  },
  {
   "cell_type": "code",
   "execution_count": 5,
   "metadata": {},
   "outputs": [
    {
     "data": {
      "text/plain": [
       "array([4, 3])"
      ]
     },
     "execution_count": 5,
     "metadata": {},
     "output_type": "execute_result"
    }
   ],
   "source": [
    "x[[2,1]]"
   ]
  },
  {
   "cell_type": "code",
   "execution_count": 6,
   "metadata": {},
   "outputs": [],
   "source": [
    "x=np.random.randn(10,10) #its slicing"
   ]
  },
  {
   "cell_type": "code",
   "execution_count": 7,
   "metadata": {},
   "outputs": [
    {
     "data": {
      "text/plain": [
       "array([[-0.87240366, -0.2679027 ,  0.76409309,  1.12462111, -0.38394264,\n",
       "         1.44942471,  0.48313044, -0.95788102,  0.23733475, -0.35838673],\n",
       "       [-0.68183772, -0.65179761,  0.26895292, -0.43397414, -1.08030935,\n",
       "         0.06092873, -0.27359634,  0.73263924,  0.72877021,  0.18206405],\n",
       "       [-1.21149579,  1.5569299 ,  1.40477619,  1.31268684,  0.55561665,\n",
       "        -0.20880429,  1.38485038, -0.95165707, -0.53343626,  0.79507973],\n",
       "       [-0.1471172 ,  0.02876385, -0.11424112, -0.79597779, -0.90857293,\n",
       "        -0.02251045,  0.95230321,  0.09445112,  0.88727249,  0.60815124],\n",
       "       [ 0.40536221, -1.49435392, -0.42062493, -2.53052474, -0.14339845,\n",
       "         1.11910085, -0.85120194,  1.13523436,  0.18809846, -0.10978029],\n",
       "       [-0.86336262,  1.46206793,  1.20180788,  1.03170104, -0.6296115 ,\n",
       "        -0.28652432,  0.63693498, -0.73857145, -0.33864357,  0.1367863 ],\n",
       "       [-1.7197391 ,  0.34016698, -0.14472711,  0.39560045,  1.14870393,\n",
       "         1.26432137,  0.69397931,  0.89831495,  0.99174966,  0.99057572],\n",
       "       [-0.4670397 ,  0.19231824,  1.06015725, -1.12641674,  1.13990917,\n",
       "         0.44731043, -0.41529622,  0.42101514, -0.91919787, -2.00951105],\n",
       "       [-1.32541768, -2.9816191 , -1.06402555, -0.01704324, -0.10174171,\n",
       "        -0.73943256, -0.43631773, -0.6787981 , -1.03576882,  1.5367978 ],\n",
       "       [ 2.08185939,  1.00270776, -1.3449453 , -0.62828596,  0.36591719,\n",
       "         0.41834522, -1.51285943,  0.57961981, -0.57765233, -0.84071809]])"
      ]
     },
     "execution_count": 7,
     "metadata": {},
     "output_type": "execute_result"
    }
   ],
   "source": [
    "x"
   ]
  },
  {
   "cell_type": "code",
   "execution_count": 8,
   "metadata": {},
   "outputs": [
    {
     "data": {
      "text/plain": [
       "array([-0.87240366, -0.2679027 ,  0.76409309,  1.12462111, -0.38394264,\n",
       "        1.44942471,  0.48313044, -0.95788102,  0.23733475, -0.35838673])"
      ]
     },
     "execution_count": 8,
     "metadata": {},
     "output_type": "execute_result"
    }
   ],
   "source": [
    "x[0]"
   ]
  },
  {
   "cell_type": "code",
   "execution_count": 9,
   "metadata": {},
   "outputs": [
    {
     "data": {
      "text/plain": [
       "-0.383942638488615"
      ]
     },
     "execution_count": 9,
     "metadata": {},
     "output_type": "execute_result"
    }
   ],
   "source": [
    "x[0][4]"
   ]
  },
  {
   "cell_type": "code",
   "execution_count": 10,
   "metadata": {},
   "outputs": [
    {
     "data": {
      "text/plain": [
       "array([[-0.68183772, -0.65179761,  0.26895292, -0.43397414, -1.08030935,\n",
       "         0.06092873, -0.27359634,  0.73263924,  0.72877021,  0.18206405],\n",
       "       [-0.1471172 ,  0.02876385, -0.11424112, -0.79597779, -0.90857293,\n",
       "        -0.02251045,  0.95230321,  0.09445112,  0.88727249,  0.60815124],\n",
       "       [-0.86336262,  1.46206793,  1.20180788,  1.03170104, -0.6296115 ,\n",
       "        -0.28652432,  0.63693498, -0.73857145, -0.33864357,  0.1367863 ],\n",
       "       [-0.4670397 ,  0.19231824,  1.06015725, -1.12641674,  1.13990917,\n",
       "         0.44731043, -0.41529622,  0.42101514, -0.91919787, -2.00951105],\n",
       "       [ 2.08185939,  1.00270776, -1.3449453 , -0.62828596,  0.36591719,\n",
       "         0.41834522, -1.51285943,  0.57961981, -0.57765233, -0.84071809]])"
      ]
     },
     "execution_count": 10,
     "metadata": {},
     "output_type": "execute_result"
    }
   ],
   "source": [
    "x[1:10:2]"
   ]
  },
  {
   "cell_type": "code",
   "execution_count": 12,
   "metadata": {},
   "outputs": [
    {
     "data": {
      "text/plain": [
       "array([[-0.87240366, -0.2679027 ,  0.76409309,  1.12462111],\n",
       "       [-0.68183772, -0.65179761,  0.26895292, -0.43397414],\n",
       "       [-1.21149579,  1.5569299 ,  1.40477619,  1.31268684],\n",
       "       [-0.1471172 ,  0.02876385, -0.11424112, -0.79597779],\n",
       "       [ 0.40536221, -1.49435392, -0.42062493, -2.53052474],\n",
       "       [-0.86336262,  1.46206793,  1.20180788,  1.03170104],\n",
       "       [-1.7197391 ,  0.34016698, -0.14472711,  0.39560045],\n",
       "       [-0.4670397 ,  0.19231824,  1.06015725, -1.12641674],\n",
       "       [-1.32541768, -2.9816191 , -1.06402555, -0.01704324],\n",
       "       [ 2.08185939,  1.00270776, -1.3449453 , -0.62828596]])"
      ]
     },
     "execution_count": 12,
     "metadata": {},
     "output_type": "execute_result"
    }
   ],
   "source": [
    "x[::,0:4]"
   ]
  },
  {
   "cell_type": "code",
   "execution_count": 13,
   "metadata": {},
   "outputs": [],
   "source": [
    "x=np.ones((5,5))"
   ]
  },
  {
   "cell_type": "code",
   "execution_count": 14,
   "metadata": {},
   "outputs": [
    {
     "data": {
      "text/plain": [
       "array([[1., 1., 1., 1., 1.],\n",
       "       [1., 1., 1., 1., 1.],\n",
       "       [1., 1., 1., 1., 1.],\n",
       "       [1., 1., 1., 1., 1.],\n",
       "       [1., 1., 1., 1., 1.]])"
      ]
     },
     "execution_count": 14,
     "metadata": {},
     "output_type": "execute_result"
    }
   ],
   "source": [
    "x"
   ]
  },
  {
   "cell_type": "code",
   "execution_count": 15,
   "metadata": {},
   "outputs": [],
   "source": [
    "x[1:-1,1:-1]=0"
   ]
  },
  {
   "cell_type": "code",
   "execution_count": 16,
   "metadata": {},
   "outputs": [
    {
     "data": {
      "text/plain": [
       "array([[1., 1., 1., 1., 1.],\n",
       "       [1., 0., 0., 0., 1.],\n",
       "       [1., 0., 0., 0., 1.],\n",
       "       [1., 0., 0., 0., 1.],\n",
       "       [1., 1., 1., 1., 1.]])"
      ]
     },
     "execution_count": 16,
     "metadata": {},
     "output_type": "execute_result"
    }
   ],
   "source": [
    "x"
   ]
  },
  {
   "cell_type": "code",
   "execution_count": null,
   "metadata": {},
   "outputs": [],
   "source": []
  }
 ],
 "metadata": {
  "kernelspec": {
   "display_name": "Python 3",
   "language": "python",
   "name": "python3"
  },
  "language_info": {
   "codemirror_mode": {
    "name": "ipython",
    "version": 3
   },
   "file_extension": ".py",
   "mimetype": "text/x-python",
   "name": "python",
   "nbconvert_exporter": "python",
   "pygments_lexer": "ipython3",
   "version": "3.7.3"
  }
 },
 "nbformat": 4,
 "nbformat_minor": 2
}
