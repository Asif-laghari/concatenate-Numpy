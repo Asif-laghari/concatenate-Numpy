{
 "cells": [
  {
   "cell_type": "code",
   "execution_count": 1,
   "metadata": {},
   "outputs": [],
   "source": [
    "import pandas as pd"
   ]
  },
  {
   "cell_type": "code",
   "execution_count": 2,
   "metadata": {},
   "outputs": [
    {
     "name": "stdout",
     "output_type": "stream",
     "text": [
      "0    4\n",
      "1    7\n",
      "2   -5\n",
      "3    3\n",
      "dtype: int64\n"
     ]
    }
   ],
   "source": [
    "obj=pd.Series([4, 7, -5, 3])\n",
    "print(obj)"
   ]
  },
  {
   "cell_type": "markdown",
   "metadata": {},
   "source": [
    "# panda Series has two things in one objects\n",
    "1 values\n",
    "2 index"
   ]
  },
  {
   "cell_type": "code",
   "execution_count": 3,
   "metadata": {},
   "outputs": [
    {
     "name": "stdout",
     "output_type": "stream",
     "text": [
      "[100 200 100 400]\n",
      "RangeIndex(start=0, stop=4, step=1)\n"
     ]
    }
   ],
   "source": [
    "sales = pd.Series([100, 200, 100, 400])\n",
    "print(sales.values)\n",
    "print(sales.index)"
   ]
  },
  {
   "cell_type": "code",
   "execution_count": 4,
   "metadata": {},
   "outputs": [
    {
     "name": "stdout",
     "output_type": "stream",
     "text": [
      "Jan    100\n",
      "Feb    200\n",
      "Mar    100\n",
      "Apr    400\n",
      "dtype: int64\n",
      "[100 200 100 400]\n",
      "Index(['Jan', 'Feb', 'Mar', 'Apr'], dtype='object')\n"
     ]
    }
   ],
   "source": [
    "sales = pd.Series([100, 200, 100, 400], index= ['Jan', 'Feb', 'Mar', 'Apr' ])\n",
    "print(sales)\n",
    "print(sales.values)\n",
    "print(sales.index)"
   ]
  },
  {
   "cell_type": "code",
   "execution_count": 5,
   "metadata": {},
   "outputs": [
    {
     "name": "stdout",
     "output_type": "stream",
     "text": [
      "Jan    100\n",
      "Feb    200\n",
      "Mar    100\n",
      "Apr    400\n",
      "Name: 4 Month sales, dtype: int64\n"
     ]
    }
   ],
   "source": [
    "sales = pd.Series([100, 200, 100, 400], index= ['Jan', 'Feb', 'Mar', 'Apr' ], name= \"4 Month sales\")\n",
    "print(sales)"
   ]
  },
  {
   "cell_type": "markdown",
   "metadata": {},
   "source": [
    "# create a pandas series to store a canteen data to hold values of how many sandwitches sold each day (one week)"
   ]
  },
  {
   "cell_type": "code",
   "execution_count": 6,
   "metadata": {},
   "outputs": [
    {
     "name": "stdout",
     "output_type": "stream",
     "text": [
      "mon    20\n",
      "tue    30\n",
      "wed    20\n",
      "thu    25\n",
      "fri    40\n",
      "sat    15\n",
      "sun     0\n",
      "dtype: int64\n"
     ]
    }
   ],
   "source": [
    "sw = pd.Series([20, 30, 20, 25, 40, 15, 0], index = ['mon', 'tue', 'wed', 'thu', 'fri', 'sat', 'sun'])\n",
    "print(sw)"
   ]
  },
  {
   "cell_type": "code",
   "execution_count": 7,
   "metadata": {},
   "outputs": [
    {
     "name": "stdout",
     "output_type": "stream",
     "text": [
      "30\n",
      "30\n",
      "0\n"
     ]
    }
   ],
   "source": [
    "print(sw[1])\n",
    "print(sw['tue'])\n",
    "print(sw['sun'])"
   ]
  },
  {
   "cell_type": "code",
   "execution_count": 8,
   "metadata": {},
   "outputs": [
    {
     "name": "stdout",
     "output_type": "stream",
     "text": [
      "thu    25\n",
      "sat    15\n",
      "dtype: int64\n",
      "thu    25\n",
      "sat    15\n",
      "dtype: int64\n"
     ]
    }
   ],
   "source": [
    "print(sw[[3,5]])\n",
    "print(sw[['thu', 'sat']])"
   ]
  },
  {
   "cell_type": "code",
   "execution_count": 9,
   "metadata": {},
   "outputs": [
    {
     "name": "stdout",
     "output_type": "stream",
     "text": [
      "tue    30\n",
      "thu    25\n",
      "fri    40\n",
      "dtype: int64\n"
     ]
    }
   ],
   "source": [
    "print(sw[sw > 20])"
   ]
  },
  {
   "cell_type": "code",
   "execution_count": 10,
   "metadata": {},
   "outputs": [
    {
     "name": "stdout",
     "output_type": "stream",
     "text": [
      "mon    20\n",
      "tue    30\n",
      "wed    20\n",
      "thu    25\n",
      "fri    40\n",
      "sat    15\n",
      "sun     0\n",
      "dtype: int64\n"
     ]
    }
   ],
   "source": [
    "print(sw)"
   ]
  },
  {
   "cell_type": "code",
   "execution_count": 11,
   "metadata": {},
   "outputs": [
    {
     "name": "stdout",
     "output_type": "stream",
     "text": [
      "mon    10.0\n",
      "tue    15.0\n",
      "wed    10.0\n",
      "thu    12.5\n",
      "fri    20.0\n",
      "sat     7.5\n",
      "sun     0.0\n",
      "dtype: float64\n"
     ]
    }
   ],
   "source": [
    "sw = sw /2\n",
    "print(sw)"
   ]
  },
  {
   "cell_type": "code",
   "execution_count": 12,
   "metadata": {},
   "outputs": [
    {
     "name": "stdout",
     "output_type": "stream",
     "text": [
      "mon     5.00\n",
      "tue     7.50\n",
      "wed     5.00\n",
      "thu     6.25\n",
      "fri    10.00\n",
      "sat     3.75\n",
      "sun     0.00\n",
      "dtype: float64\n"
     ]
    }
   ],
   "source": [
    "sw = sw /2\n",
    "print(sw)"
   ]
  },
  {
   "cell_type": "code",
   "execution_count": 13,
   "metadata": {},
   "outputs": [
    {
     "name": "stdout",
     "output_type": "stream",
     "text": [
      "mon     5.00\n",
      "tue     7.50\n",
      "wed     5.00\n",
      "thu     6.25\n",
      "fri    10.00\n",
      "sat     3.75\n",
      "sun     0.00\n",
      "dtype: float64\n"
     ]
    }
   ],
   "source": [
    "print(sw)"
   ]
  },
  {
   "cell_type": "code",
   "execution_count": 14,
   "metadata": {},
   "outputs": [
    {
     "data": {
      "text/plain": [
       "True"
      ]
     },
     "execution_count": 14,
     "metadata": {},
     "output_type": "execute_result"
    }
   ],
   "source": [
    "'mon' in sw"
   ]
  },
  {
   "cell_type": "code",
   "execution_count": 15,
   "metadata": {},
   "outputs": [
    {
     "data": {
      "text/plain": [
       "False"
      ]
     },
     "execution_count": 15,
     "metadata": {},
     "output_type": "execute_result"
    }
   ],
   "source": [
    "1 in sw"
   ]
  },
  {
   "cell_type": "code",
   "execution_count": 16,
   "metadata": {},
   "outputs": [
    {
     "name": "stdout",
     "output_type": "stream",
     "text": [
      "a    2\n",
      "b    4\n",
      "c    5\n",
      "d    6\n",
      "e    7\n",
      "dtype: int32\n"
     ]
    }
   ],
   "source": [
    "import numpy as np\n",
    "ar = np.array([2, 4, 5, 6, 7,])\n",
    "ind = np.array(['a', 'b', 'c', 'd', 'e'])\n",
    "\n",
    "obj2 = pd.Series(ar, index = ind)                 #in this method we can convert numpy data into pandas\n",
    "print(obj2)"
   ]
  },
  {
   "cell_type": "code",
   "execution_count": 17,
   "metadata": {},
   "outputs": [
    {
     "name": "stdout",
     "output_type": "stream",
     "text": [
      "Punjab         45000.0\n",
      "Sindh          35000.0\n",
      "KPK            25000.0\n",
      "Balochistan    20000.0\n",
      "GB                 NaN\n",
      "dtype: float64\n"
     ]
    }
   ],
   "source": [
    "sdata = {\"Sindh\": 35000, \"Punjab\": 45000, \"KPK\": 25000, \"Balochistan\": 20000}\n",
    "tax_by_state = pd.Series(sdata, index = [\"Punjab\", \"Sindh\", \"KPK\", \"Balochistan\", \"GB\"])\n",
    "print(tax_by_state)"
   ]
  },
  {
   "cell_type": "markdown",
   "metadata": {},
   "source": [
    "**Source for series data**\n",
    "* Direct data in the series method\n",
    "* From numpy array or list\n",
    "* From dictionary"
   ]
  },
  {
   "cell_type": "markdown",
   "metadata": {},
   "source": [
    "# Data Frame Prectice"
   ]
  },
  {
   "cell_type": "code",
   "execution_count": 18,
   "metadata": {},
   "outputs": [
    {
     "name": "stdout",
     "output_type": "stream",
     "text": [
      "     apples  oranges\n",
      "mon       4        1\n",
      "tue       2        2\n",
      "wed       3        3\n",
      "thu       4        4\n"
     ]
    }
   ],
   "source": [
    "apples = pd.Series([4,2,3,4], index = [\"mon\", \"tue\", \"wed\", \"thu\"])\n",
    "oranges = pd.Series([1,2,3,4], index = [\"mon\", \"tue\", \"wed\", \"thu\"])\n",
    "\n",
    "#print(apples, oranges)\n",
    "data = {\"apples\": apples, \"oranges\": oranges}\n",
    "fruits = pd.DataFrame(data)\n",
    "print(fruits)\n",
    "\n"
   ]
  },
  {
   "cell_type": "code",
   "execution_count": 19,
   "metadata": {},
   "outputs": [
    {
     "name": "stdout",
     "output_type": "stream",
     "text": [
      "           state  year  city\n",
      "1st        Sindh  2001   200\n",
      "2nd       Punjab  2001   300\n",
      "3rd  Balochistan  2002   105\n",
      "4th          KPK  2003   100\n",
      "5th       Gilgit  2004   103\n",
      "6th      Kashmir  2005   220\n"
     ]
    }
   ],
   "source": [
    "state= ['Sindh', 'Punjab', 'Balochistan', 'KPK', 'Gilgit', 'Kashmir']\n",
    "data= {'state': state,\n",
    "       'year' : [2001, 2001, 2002, 2003, 2004, 2005],\n",
    "       'city' : [200, 300, 105, 100, 103, 220]}\n",
    "       \n",
    "frame = pd.DataFrame(data, index = ['1st', '2nd', '3rd', '4th', '5th', '6th'])\n",
    "print(frame)"
   ]
  },
  {
   "cell_type": "code",
   "execution_count": 20,
   "metadata": {},
   "outputs": [
    {
     "data": {
      "text/html": [
       "<div>\n",
       "<style scoped>\n",
       "    .dataframe tbody tr th:only-of-type {\n",
       "        vertical-align: middle;\n",
       "    }\n",
       "\n",
       "    .dataframe tbody tr th {\n",
       "        vertical-align: top;\n",
       "    }\n",
       "\n",
       "    .dataframe thead th {\n",
       "        text-align: right;\n",
       "    }\n",
       "</style>\n",
       "<table border=\"1\" class=\"dataframe\">\n",
       "  <thead>\n",
       "    <tr style=\"text-align: right;\">\n",
       "      <th></th>\n",
       "      <th>year</th>\n",
       "      <th>state</th>\n",
       "      <th>city</th>\n",
       "    </tr>\n",
       "  </thead>\n",
       "  <tbody>\n",
       "    <tr>\n",
       "      <th>0</th>\n",
       "      <td>2001</td>\n",
       "      <td>Sindh</td>\n",
       "      <td>200</td>\n",
       "    </tr>\n",
       "    <tr>\n",
       "      <th>1</th>\n",
       "      <td>2001</td>\n",
       "      <td>Punjab</td>\n",
       "      <td>300</td>\n",
       "    </tr>\n",
       "    <tr>\n",
       "      <th>2</th>\n",
       "      <td>2002</td>\n",
       "      <td>Balochistan</td>\n",
       "      <td>105</td>\n",
       "    </tr>\n",
       "    <tr>\n",
       "      <th>3</th>\n",
       "      <td>2003</td>\n",
       "      <td>KPK</td>\n",
       "      <td>100</td>\n",
       "    </tr>\n",
       "    <tr>\n",
       "      <th>4</th>\n",
       "      <td>2004</td>\n",
       "      <td>Gilgit</td>\n",
       "      <td>103</td>\n",
       "    </tr>\n",
       "    <tr>\n",
       "      <th>5</th>\n",
       "      <td>2005</td>\n",
       "      <td>Kashmir</td>\n",
       "      <td>220</td>\n",
       "    </tr>\n",
       "  </tbody>\n",
       "</table>\n",
       "</div>"
      ],
      "text/plain": [
       "   year        state  city\n",
       "0  2001        Sindh   200\n",
       "1  2001       Punjab   300\n",
       "2  2002  Balochistan   105\n",
       "3  2003          KPK   100\n",
       "4  2004       Gilgit   103\n",
       "5  2005      Kashmir   220"
      ]
     },
     "execution_count": 20,
     "metadata": {},
     "output_type": "execute_result"
    }
   ],
   "source": [
    "frame.head()\n",
    "pd.DataFrame(data, columns=['year', 'state', 'city']) # we can change the name of the column"
   ]
  },
  {
   "cell_type": "code",
   "execution_count": 21,
   "metadata": {},
   "outputs": [
    {
     "data": {
      "text/html": [
       "<div>\n",
       "<style scoped>\n",
       "    .dataframe tbody tr th:only-of-type {\n",
       "        vertical-align: middle;\n",
       "    }\n",
       "\n",
       "    .dataframe tbody tr th {\n",
       "        vertical-align: top;\n",
       "    }\n",
       "\n",
       "    .dataframe thead th {\n",
       "        text-align: right;\n",
       "    }\n",
       "</style>\n",
       "<table border=\"1\" class=\"dataframe\">\n",
       "  <thead>\n",
       "    <tr style=\"text-align: right;\">\n",
       "      <th></th>\n",
       "      <th>year</th>\n",
       "      <th>state</th>\n",
       "      <th>city</th>\n",
       "      <th>pop</th>\n",
       "    </tr>\n",
       "  </thead>\n",
       "  <tbody>\n",
       "    <tr>\n",
       "      <th>one</th>\n",
       "      <td>2001</td>\n",
       "      <td>Sindh</td>\n",
       "      <td>200</td>\n",
       "      <td>NaN</td>\n",
       "    </tr>\n",
       "    <tr>\n",
       "      <th>two</th>\n",
       "      <td>2001</td>\n",
       "      <td>Punjab</td>\n",
       "      <td>300</td>\n",
       "      <td>NaN</td>\n",
       "    </tr>\n",
       "    <tr>\n",
       "      <th>three</th>\n",
       "      <td>2002</td>\n",
       "      <td>Balochistan</td>\n",
       "      <td>105</td>\n",
       "      <td>NaN</td>\n",
       "    </tr>\n",
       "    <tr>\n",
       "      <th>four</th>\n",
       "      <td>2003</td>\n",
       "      <td>KPK</td>\n",
       "      <td>100</td>\n",
       "      <td>NaN</td>\n",
       "    </tr>\n",
       "    <tr>\n",
       "      <th>five</th>\n",
       "      <td>2004</td>\n",
       "      <td>Gilgit</td>\n",
       "      <td>103</td>\n",
       "      <td>NaN</td>\n",
       "    </tr>\n",
       "  </tbody>\n",
       "</table>\n",
       "</div>"
      ],
      "text/plain": [
       "       year        state  city  pop\n",
       "one    2001        Sindh   200  NaN\n",
       "two    2001       Punjab   300  NaN\n",
       "three  2002  Balochistan   105  NaN\n",
       "four   2003          KPK   100  NaN\n",
       "five   2004       Gilgit   103  NaN"
      ]
     },
     "execution_count": 21,
     "metadata": {},
     "output_type": "execute_result"
    }
   ],
   "source": [
    "frame2 = pd.DataFrame(data, columns=['year', 'state', 'city', 'pop'], #we can create more columns in this method but it will nan untill we putt the values \n",
    "        index = ['one', 'two', 'three', 'four', 'five', 'six'])\n",
    "frame2.head()"
   ]
  },
  {
   "cell_type": "code",
   "execution_count": 22,
   "metadata": {},
   "outputs": [
    {
     "name": "stdout",
     "output_type": "stream",
     "text": [
      "Index(['year', 'state', 'city', 'pop'], dtype='object')\n",
      "Index(['one', 'two', 'three', 'four', 'five', 'six'], dtype='object')\n"
     ]
    }
   ],
   "source": [
    "print(frame2.columns)\n",
    "print(frame2.index)"
   ]
  },
  {
   "cell_type": "markdown",
   "metadata": {},
   "source": [
    "# A column in a DataFrame can be retrieved as a Series ethier by dic-like notation or by attribute:"
   ]
  },
  {
   "cell_type": "code",
   "execution_count": 23,
   "metadata": {},
   "outputs": [
    {
     "data": {
      "text/plain": [
       "['Sindh', 'Punjab', 'Balochistan', 'KPK', 'Gilgit', 'Kashmir']"
      ]
     },
     "execution_count": 23,
     "metadata": {},
     "output_type": "execute_result"
    }
   ],
   "source": [
    "data['state'] #dic-like notation to acceses data"
   ]
  },
  {
   "cell_type": "code",
   "execution_count": 24,
   "metadata": {},
   "outputs": [
    {
     "data": {
      "text/plain": [
       "one      2001\n",
       "two      2001\n",
       "three    2002\n",
       "four     2003\n",
       "five     2004\n",
       "six      2005\n",
       "Name: year, dtype: int64"
      ]
     },
     "execution_count": 24,
     "metadata": {},
     "output_type": "execute_result"
    }
   ],
   "source": [
    "frame2[\"year\"]"
   ]
  },
  {
   "cell_type": "code",
   "execution_count": 25,
   "metadata": {},
   "outputs": [
    {
     "data": {
      "text/plain": [
       "1st          Sindh\n",
       "2nd         Punjab\n",
       "3rd    Balochistan\n",
       "4th            KPK\n",
       "5th         Gilgit\n",
       "6th        Kashmir\n",
       "Name: state, dtype: object"
      ]
     },
     "execution_count": 25,
     "metadata": {},
     "output_type": "execute_result"
    }
   ],
   "source": [
    "frame[\"state\"]"
   ]
  },
  {
   "cell_type": "code",
   "execution_count": 26,
   "metadata": {},
   "outputs": [
    {
     "data": {
      "text/plain": [
       "one      200\n",
       "two      300\n",
       "three    105\n",
       "four     100\n",
       "five     103\n",
       "six      220\n",
       "Name: city, dtype: int64"
      ]
     },
     "execution_count": 26,
     "metadata": {},
     "output_type": "execute_result"
    }
   ],
   "source": [
    "#there is another method attribute style for accesing dataframe in this we use frame2.state\n",
    "frame2.city"
   ]
  },
  {
   "cell_type": "code",
   "execution_count": 27,
   "metadata": {},
   "outputs": [
    {
     "name": "stdout",
     "output_type": "stream",
     "text": [
      "year      2001\n",
      "state    Sindh\n",
      "city       200\n",
      "pop        NaN\n",
      "Name: one, dtype: object\n"
     ]
    },
    {
     "data": {
      "text/html": [
       "<div>\n",
       "<style scoped>\n",
       "    .dataframe tbody tr th:only-of-type {\n",
       "        vertical-align: middle;\n",
       "    }\n",
       "\n",
       "    .dataframe tbody tr th {\n",
       "        vertical-align: top;\n",
       "    }\n",
       "\n",
       "    .dataframe thead th {\n",
       "        text-align: right;\n",
       "    }\n",
       "</style>\n",
       "<table border=\"1\" class=\"dataframe\">\n",
       "  <thead>\n",
       "    <tr style=\"text-align: right;\">\n",
       "      <th></th>\n",
       "      <th>state</th>\n",
       "      <th>year</th>\n",
       "      <th>city</th>\n",
       "    </tr>\n",
       "  </thead>\n",
       "  <tbody>\n",
       "    <tr>\n",
       "      <th>1st</th>\n",
       "      <td>Sindh</td>\n",
       "      <td>2001</td>\n",
       "      <td>200</td>\n",
       "    </tr>\n",
       "    <tr>\n",
       "      <th>2nd</th>\n",
       "      <td>Punjab</td>\n",
       "      <td>2001</td>\n",
       "      <td>300</td>\n",
       "    </tr>\n",
       "    <tr>\n",
       "      <th>3rd</th>\n",
       "      <td>Balochistan</td>\n",
       "      <td>2002</td>\n",
       "      <td>105</td>\n",
       "    </tr>\n",
       "    <tr>\n",
       "      <th>4th</th>\n",
       "      <td>KPK</td>\n",
       "      <td>2003</td>\n",
       "      <td>100</td>\n",
       "    </tr>\n",
       "    <tr>\n",
       "      <th>5th</th>\n",
       "      <td>Gilgit</td>\n",
       "      <td>2004</td>\n",
       "      <td>103</td>\n",
       "    </tr>\n",
       "  </tbody>\n",
       "</table>\n",
       "</div>"
      ],
      "text/plain": [
       "           state  year  city\n",
       "1st        Sindh  2001   200\n",
       "2nd       Punjab  2001   300\n",
       "3rd  Balochistan  2002   105\n",
       "4th          KPK  2003   100\n",
       "5th       Gilgit  2004   103"
      ]
     },
     "execution_count": 27,
     "metadata": {},
     "output_type": "execute_result"
    }
   ],
   "source": [
    "print(frame2.loc['one']) # in this method we can access index wise columns \n",
    "frame.head()\n",
    "frame.head() #its means it will access last input otherwise print function must access if we want multiple ouputs we use print"
   ]
  },
  {
   "cell_type": "markdown",
   "metadata": {},
   "source": [
    "# colmns can be modified by assignmnet, for exp empty 'pop' column could be assigned a scalar value or an array of values"
   ]
  },
  {
   "cell_type": "code",
   "execution_count": 28,
   "metadata": {},
   "outputs": [
    {
     "data": {
      "text/html": [
       "<div>\n",
       "<style scoped>\n",
       "    .dataframe tbody tr th:only-of-type {\n",
       "        vertical-align: middle;\n",
       "    }\n",
       "\n",
       "    .dataframe tbody tr th {\n",
       "        vertical-align: top;\n",
       "    }\n",
       "\n",
       "    .dataframe thead th {\n",
       "        text-align: right;\n",
       "    }\n",
       "</style>\n",
       "<table border=\"1\" class=\"dataframe\">\n",
       "  <thead>\n",
       "    <tr style=\"text-align: right;\">\n",
       "      <th></th>\n",
       "      <th>year</th>\n",
       "      <th>state</th>\n",
       "      <th>city</th>\n",
       "      <th>pop</th>\n",
       "    </tr>\n",
       "  </thead>\n",
       "  <tbody>\n",
       "    <tr>\n",
       "      <th>one</th>\n",
       "      <td>2001</td>\n",
       "      <td>Sindh</td>\n",
       "      <td>200</td>\n",
       "      <td>5.5</td>\n",
       "    </tr>\n",
       "    <tr>\n",
       "      <th>two</th>\n",
       "      <td>2001</td>\n",
       "      <td>Punjab</td>\n",
       "      <td>300</td>\n",
       "      <td>5.5</td>\n",
       "    </tr>\n",
       "    <tr>\n",
       "      <th>three</th>\n",
       "      <td>2002</td>\n",
       "      <td>Balochistan</td>\n",
       "      <td>105</td>\n",
       "      <td>5.5</td>\n",
       "    </tr>\n",
       "    <tr>\n",
       "      <th>four</th>\n",
       "      <td>2003</td>\n",
       "      <td>KPK</td>\n",
       "      <td>100</td>\n",
       "      <td>5.5</td>\n",
       "    </tr>\n",
       "    <tr>\n",
       "      <th>five</th>\n",
       "      <td>2004</td>\n",
       "      <td>Gilgit</td>\n",
       "      <td>103</td>\n",
       "      <td>5.5</td>\n",
       "    </tr>\n",
       "  </tbody>\n",
       "</table>\n",
       "</div>"
      ],
      "text/plain": [
       "       year        state  city  pop\n",
       "one    2001        Sindh   200  5.5\n",
       "two    2001       Punjab   300  5.5\n",
       "three  2002  Balochistan   105  5.5\n",
       "four   2003          KPK   100  5.5\n",
       "five   2004       Gilgit   103  5.5"
      ]
     },
     "execution_count": 28,
     "metadata": {},
     "output_type": "execute_result"
    }
   ],
   "source": [
    "frame2['pop'] = 5.5\n",
    "frame2.head()"
   ]
  },
  {
   "cell_type": "code",
   "execution_count": 29,
   "metadata": {},
   "outputs": [
    {
     "name": "stdout",
     "output_type": "stream",
     "text": [
      "[0 1 2 3 4 5]\n"
     ]
    },
    {
     "data": {
      "text/html": [
       "<div>\n",
       "<style scoped>\n",
       "    .dataframe tbody tr th:only-of-type {\n",
       "        vertical-align: middle;\n",
       "    }\n",
       "\n",
       "    .dataframe tbody tr th {\n",
       "        vertical-align: top;\n",
       "    }\n",
       "\n",
       "    .dataframe thead th {\n",
       "        text-align: right;\n",
       "    }\n",
       "</style>\n",
       "<table border=\"1\" class=\"dataframe\">\n",
       "  <thead>\n",
       "    <tr style=\"text-align: right;\">\n",
       "      <th></th>\n",
       "      <th>year</th>\n",
       "      <th>state</th>\n",
       "      <th>city</th>\n",
       "      <th>pop</th>\n",
       "    </tr>\n",
       "  </thead>\n",
       "  <tbody>\n",
       "    <tr>\n",
       "      <th>one</th>\n",
       "      <td>2001</td>\n",
       "      <td>Sindh</td>\n",
       "      <td>200</td>\n",
       "      <td>0</td>\n",
       "    </tr>\n",
       "    <tr>\n",
       "      <th>two</th>\n",
       "      <td>2001</td>\n",
       "      <td>Punjab</td>\n",
       "      <td>300</td>\n",
       "      <td>1</td>\n",
       "    </tr>\n",
       "    <tr>\n",
       "      <th>three</th>\n",
       "      <td>2002</td>\n",
       "      <td>Balochistan</td>\n",
       "      <td>105</td>\n",
       "      <td>2</td>\n",
       "    </tr>\n",
       "    <tr>\n",
       "      <th>four</th>\n",
       "      <td>2003</td>\n",
       "      <td>KPK</td>\n",
       "      <td>100</td>\n",
       "      <td>3</td>\n",
       "    </tr>\n",
       "    <tr>\n",
       "      <th>five</th>\n",
       "      <td>2004</td>\n",
       "      <td>Gilgit</td>\n",
       "      <td>103</td>\n",
       "      <td>4</td>\n",
       "    </tr>\n",
       "    <tr>\n",
       "      <th>six</th>\n",
       "      <td>2005</td>\n",
       "      <td>Kashmir</td>\n",
       "      <td>220</td>\n",
       "      <td>5</td>\n",
       "    </tr>\n",
       "  </tbody>\n",
       "</table>\n",
       "</div>"
      ],
      "text/plain": [
       "       year        state  city  pop\n",
       "one    2001        Sindh   200    0\n",
       "two    2001       Punjab   300    1\n",
       "three  2002  Balochistan   105    2\n",
       "four   2003          KPK   100    3\n",
       "five   2004       Gilgit   103    4\n",
       "six    2005      Kashmir   220    5"
      ]
     },
     "execution_count": 29,
     "metadata": {},
     "output_type": "execute_result"
    }
   ],
   "source": [
    "ln = (len(frame2)) #finding num of rows in dataframe\n",
    "#print(frame2)\n",
    "rng = np.arange(ln)\n",
    "print(rng)\n",
    "frame2['pop'] = rng\n",
    "frame2"
   ]
  },
  {
   "cell_type": "code",
   "execution_count": 30,
   "metadata": {},
   "outputs": [
    {
     "data": {
      "text/html": [
       "<div>\n",
       "<style scoped>\n",
       "    .dataframe tbody tr th:only-of-type {\n",
       "        vertical-align: middle;\n",
       "    }\n",
       "\n",
       "    .dataframe tbody tr th {\n",
       "        vertical-align: top;\n",
       "    }\n",
       "\n",
       "    .dataframe thead th {\n",
       "        text-align: right;\n",
       "    }\n",
       "</style>\n",
       "<table border=\"1\" class=\"dataframe\">\n",
       "  <thead>\n",
       "    <tr style=\"text-align: right;\">\n",
       "      <th></th>\n",
       "      <th>year</th>\n",
       "      <th>state</th>\n",
       "      <th>city</th>\n",
       "      <th>pop</th>\n",
       "    </tr>\n",
       "  </thead>\n",
       "  <tbody>\n",
       "    <tr>\n",
       "      <th>one</th>\n",
       "      <td>2001</td>\n",
       "      <td>Sindh</td>\n",
       "      <td>200</td>\n",
       "      <td>1.2</td>\n",
       "    </tr>\n",
       "    <tr>\n",
       "      <th>two</th>\n",
       "      <td>2001</td>\n",
       "      <td>Punjab</td>\n",
       "      <td>300</td>\n",
       "      <td>1.4</td>\n",
       "    </tr>\n",
       "    <tr>\n",
       "      <th>three</th>\n",
       "      <td>2002</td>\n",
       "      <td>Balochistan</td>\n",
       "      <td>105</td>\n",
       "      <td>1.6</td>\n",
       "    </tr>\n",
       "    <tr>\n",
       "      <th>four</th>\n",
       "      <td>2003</td>\n",
       "      <td>KPK</td>\n",
       "      <td>100</td>\n",
       "      <td>2.3</td>\n",
       "    </tr>\n",
       "    <tr>\n",
       "      <th>five</th>\n",
       "      <td>2004</td>\n",
       "      <td>Gilgit</td>\n",
       "      <td>103</td>\n",
       "      <td>2.2</td>\n",
       "    </tr>\n",
       "    <tr>\n",
       "      <th>six</th>\n",
       "      <td>2005</td>\n",
       "      <td>Kashmir</td>\n",
       "      <td>220</td>\n",
       "      <td>2.4</td>\n",
       "    </tr>\n",
       "  </tbody>\n",
       "</table>\n",
       "</div>"
      ],
      "text/plain": [
       "       year        state  city  pop\n",
       "one    2001        Sindh   200  1.2\n",
       "two    2001       Punjab   300  1.4\n",
       "three  2002  Balochistan   105  1.6\n",
       "four   2003          KPK   100  2.3\n",
       "five   2004       Gilgit   103  2.2\n",
       "six    2005      Kashmir   220  2.4"
      ]
     },
     "execution_count": 30,
     "metadata": {},
     "output_type": "execute_result"
    }
   ],
   "source": [
    "val = pd.Series([1.2, 1.4, 1.6, 2.3, 2.2, 2.4],\n",
    "         index = ['one', 'two', 'three', 'four', 'five', 'six']) #index must\n",
    "frame2['pop'] = val\n",
    "frame2"
   ]
  },
  {
   "cell_type": "markdown",
   "metadata": {},
   "source": [
    "# Function Application and Mapping"
   ]
  },
  {
   "cell_type": "code",
   "execution_count": 31,
   "metadata": {},
   "outputs": [
    {
     "name": "stdout",
     "output_type": "stream",
     "text": [
      "            b         d         e\n",
      "khi  0.628606  1.048542  1.104674\n",
      "hyd  0.574788 -0.359803  0.186367\n",
      "lhr -0.484583 -0.945272 -1.078382\n",
      "skr  1.137369  0.222998  0.380801\n",
      "b    1.621951\n",
      "d    1.993814\n",
      "e    2.183056\n",
      "dtype: float64 <class 'pandas.core.series.Series'>\n",
      "khi    0.476068\n",
      "hyd    0.934590\n",
      "lhr    0.593799\n",
      "skr    0.914371\n",
      "dtype: float64\n",
      "            b         d         e\n",
      "min  1.137369  1.048542  1.104674\n",
      "max -0.484583 -0.945272 -1.078382 <class 'pandas.core.frame.DataFrame'>\n"
     ]
    }
   ],
   "source": [
    "fr = fr = pd.DataFrame(np.random.randn(4, 3),\n",
    "                       columns=list('bde'),\n",
    "                       index=['khi', 'hyd', 'lhr', 'skr'])\n",
    "\n",
    "print(fr)\n",
    "#print(np.abs(fr)) #its return to absulate value of number negetive values become posetive\n",
    "#print(fr['d']. min())\n",
    "#print(fr['d']. max())\n",
    "#print(fr['d']. max() - fr['d']. min())\n",
    "\n",
    "f = lambda x: x.max() - x.min()\n",
    "df = fr.apply(f)\n",
    "print(df, type(df))\n",
    "df = fr.apply(f, axis=1)\n",
    "print(df)\n",
    "\n",
    "def min_max(x):\n",
    "    minimum = x.min()\n",
    "    maximum = x.max()\n",
    "    return pd.Series([maximum, minimum], index = ['min', 'max'])\n",
    "\n",
    "df = fr.apply(min_max)\n",
    "print(df, type(df))"
   ]
  },
  {
   "cell_type": "markdown",
   "metadata": {},
   "source": [
    "# Arithimetic and Data Alignment"
   ]
  },
  {
   "cell_type": "code",
   "execution_count": 32,
   "metadata": {},
   "outputs": [
    {
     "name": "stdout",
     "output_type": "stream",
     "text": [
      "[0 1 2 3 4 5 6 7 8]\n"
     ]
    },
    {
     "data": {
      "text/plain": [
       "array([[0, 1, 2],\n",
       "       [3, 4, 5],\n",
       "       [6, 7, 8]])"
      ]
     },
     "execution_count": 32,
     "metadata": {},
     "output_type": "execute_result"
    }
   ],
   "source": [
    "n = np.arange(9) #arange means count numbers\n",
    "print(n)\n",
    "n.reshape(3, 3) #reshape means its convert to rows and culumns"
   ]
  },
  {
   "cell_type": "code",
   "execution_count": 33,
   "metadata": {},
   "outputs": [
    {
     "name": "stdout",
     "output_type": "stream",
     "text": [
      "               b    c    d\n",
      "sindh        0.0  1.0  2.0\n",
      "punjab       3.0  4.0  5.0\n",
      "balochistan  6.0  7.0  8.0\n",
      "               b     d     e\n",
      "sindh        0.0   1.0   2.0\n",
      "balochistan  3.0   4.0   5.0\n",
      "kpk          6.0   7.0   8.0\n",
      "gilgit       9.0  10.0  11.0\n",
      "               b   c     d   e\n",
      "balochistan  9.0 NaN  12.0 NaN\n",
      "gilgit       NaN NaN   NaN NaN\n",
      "kpk          NaN NaN   NaN NaN\n",
      "punjab       NaN NaN   NaN NaN\n",
      "sindh        0.0 NaN   3.0 NaN\n"
     ]
    }
   ],
   "source": [
    "df1 = pd.DataFrame(np.arange (9.).reshape (3, 3),\n",
    "                   columns=list('bcd'),\n",
    "                   index=['sindh', 'punjab', 'balochistan' ])\n",
    "        \n",
    "df2 = pd.DataFrame(np.arange(12.).reshape(4, 3),\n",
    "                   columns=list('bde'),\n",
    "                   index=['sindh', 'balochistan', 'kpk', 'gilgit'])\n",
    "\n",
    "print(df1)\n",
    "print(df2) #applying plus operation between two df\n",
    "\n",
    "df3 = df1 + df2\n",
    "print(df3)\n",
    "#index and columns must match otherwise values will be nan\n",
    "                   "
   ]
  },
  {
   "cell_type": "markdown",
   "metadata": {},
   "source": [
    "# Arithimetic Method with Fill Values"
   ]
  },
  {
   "cell_type": "code",
   "execution_count": 34,
   "metadata": {},
   "outputs": [
    {
     "name": "stdout",
     "output_type": "stream",
     "text": [
      "     a    b     c     d\n",
      "0  0.0  1.0   2.0   3.0\n",
      "1  4.0  5.0   6.0   7.0\n",
      "2  8.0  9.0  10.0  11.0\n",
      "      a     b     c     d     e\n",
      "0   0.0   1.0   2.0   3.0   4.0\n",
      "1   5.0   6.0   7.0   8.0   9.0\n",
      "2  10.0  11.0  12.0  13.0  14.0\n",
      "3  15.0  16.0  17.0  18.0  19.0\n",
      "\n",
      "direct + value without fill_values\n",
      "      a     b     c     d   e\n",
      "0   0.0   2.0   4.0   6.0 NaN\n",
      "1   9.0  11.0  13.0  15.0 NaN\n",
      "2  18.0  20.0  22.0  24.0 NaN\n",
      "3   NaN   NaN   NaN   NaN NaN\n",
      "........\n",
      "\n",
      "addition using a method with replacing Nan with 1\n",
      "      a     b     c     d     e\n",
      "0   0.0   2.0   4.0   6.0   5.0\n",
      "1   9.0  11.0  13.0  15.0  10.0\n",
      "2  18.0  20.0  22.0  24.0  15.0\n",
      "3  16.0  17.0  18.0  19.0  20.0\n"
     ]
    }
   ],
   "source": [
    "df3 = pd.DataFrame(np.arange(12.).reshape(3, 4),\n",
    "                   columns=list('abcd'))\n",
    "df4 = pd.DataFrame(np.arange(20.).reshape(4, 5),\n",
    "                   columns=list('abcde'))\n",
    "\n",
    "print(df3)\n",
    "print(df4)\n",
    "df5 = df3 + df4\n",
    "print()\n",
    "print(\"direct + value without fill_values\")\n",
    "print(df5)\n",
    "print('........')\n",
    "print()\n",
    "# We can use add method for filling NaN cells with a value\n",
    "# Nan will be replaced by 1 and then addition operation will apply\n",
    "\n",
    "print(\"addition using a method with replacing Nan with 1\")\n",
    "df5 = df3.add(df4, fill_value=1)\n",
    "print(df5)"
   ]
  },
  {
   "cell_type": "markdown",
   "metadata": {},
   "source": [
    "# Operation Between DataFrame and Series"
   ]
  },
  {
   "cell_type": "code",
   "execution_count": 35,
   "metadata": {},
   "outputs": [
    {
     "name": "stdout",
     "output_type": "stream",
     "text": [
      "          b     d     e\n",
      "Asif    0.0   1.0   2.0\n",
      "Ali     3.0   4.0   5.0\n",
      "Amjad   6.0   7.0   8.0\n",
      "Yameen  9.0  10.0  11.0\n",
      "using new series\n",
      "Index(['b', 'd', 'e'], dtype='object') [1 2 3]\n",
      "          b    d    e\n",
      "Asif   -1.0 -1.0 -1.0\n",
      "Ali     2.0  2.0  2.0\n",
      "Amjad   5.0  5.0  5.0\n",
      "Yameen  8.0  8.0  8.0\n"
     ]
    }
   ],
   "source": [
    "fr = pd.DataFrame(np.arange(12.).reshape(4, 3),\n",
    "                  columns=list('bde'),\n",
    "                  index=['Asif','Ali','Amjad','Yameen'])\n",
    "series = fr.iloc[0]\n",
    "print(fr)\n",
    "#print(series)\n",
    "#print(series.values)\n",
    "#print(series.index)\n",
    "#print(fr - series)\n",
    "# step 1 run above cammand after uncomment\n",
    "# step 2 comment above prints cammand except fr\n",
    "print('using new series')\n",
    "series = pd.Series([1,2,3], index=list('bde'))\n",
    "print(series.index, series.values)\n",
    "print(fr - series)\n",
    "# dataframe columns name wil be match with series index\n",
    "# because its rows wise operation"
   ]
  },
  {
   "cell_type": "markdown",
   "metadata": {},
   "source": [
    "# Deleting data (rows and columns from DataFrame)"
   ]
  },
  {
   "cell_type": "code",
   "execution_count": 36,
   "metadata": {},
   "outputs": [
    {
     "name": "stdout",
     "output_type": "stream",
     "text": [
      "        one  two  three  four\n",
      "Asif      0    1      2     3\n",
      "Amjad     4    5      6     7\n",
      "Ali       8    9     10    11\n",
      "Younis   12   13     14    15\n"
     ]
    }
   ],
   "source": [
    "data_df = pd.DataFrame(np.arange(16).reshape(4,4),\n",
    "                       index= ['Asif', 'Amjad', 'Ali', 'Younis'],\n",
    "                       columns=['one', 'two', 'three', 'four'])\n",
    "\n",
    "print(data_df)\n"
   ]
  },
  {
   "cell_type": "code",
   "execution_count": 37,
   "metadata": {},
   "outputs": [
    {
     "name": "stdout",
     "output_type": "stream",
     "text": [
      "        one  two  three  four\n",
      "Asif      0    1      2     3\n",
      "Amjad     4    5      6     7\n",
      "Ali       8    9     10    11\n",
      "Younis   12   13     14    15 \n",
      "\n",
      "        one  two  four\n",
      "Asif      0    1     3\n",
      "Amjad     4    5     7\n",
      "Ali       8    9    11\n",
      "Younis   12   13    15\n",
      "       one  two  four\n",
      "Asif     0    1     3\n",
      "Amjad    4    5     7\n",
      "Ali      8    9    11\n"
     ]
    }
   ],
   "source": [
    "data_df = pd.DataFrame(np.arange(16).reshape(4,4),\n",
    "                       index= ['Asif', 'Amjad', 'Ali', 'Younis'],\n",
    "                       columns=['one', 'two', 'three', 'four'])\n",
    "\n",
    "print(data_df, \"\\n\")\n",
    "\n",
    "# we can drop/delete values by passing axis=1 and axis=0\n",
    "# axis=1 means columns wise and axis=0 rows wise\n",
    "\n",
    "data_df = data_df.drop('three', axis=1) #in this method values deleted by column wise\n",
    "print(data_df)\n",
    "data_df = data_df.drop('Younis', axis=0) #in this method values deleted by rows wise\n",
    "print(data_df)"
   ]
  },
  {
   "cell_type": "markdown",
   "metadata": {},
   "source": [
    "# Sorting and Ranking"
   ]
  },
  {
   "cell_type": "code",
   "execution_count": 38,
   "metadata": {},
   "outputs": [
    {
     "name": "stdout",
     "output_type": "stream",
     "text": [
      "       d  a  b  c\n",
      "three  0  1  2  3\n",
      "one    4  5  6  7\n",
      "\n",
      "       d  a  b  c\n",
      "one    4  5  6  7\n",
      "three  0  1  2  3\n",
      "\n",
      "       a  b  c  d\n",
      "three  1  2  3  0\n",
      "one    5  6  7  4\n"
     ]
    }
   ],
   "source": [
    "f = pd.DataFrame(np.arange(8).reshape(2,4),\n",
    "                 index=['three', 'one'],\n",
    "                 columns=['d', 'a', 'b', 'c'])\n",
    "\n",
    "print(f)\n",
    "print()\n",
    "print(f.sort_index())\n",
    "print()\n",
    "print(f.sort_index(axis=1, ascending=True))"
   ]
  },
  {
   "cell_type": "markdown",
   "metadata": {},
   "source": [
    "# Summrizing and Computing Descriptive Statistics"
   ]
  },
  {
   "cell_type": "code",
   "execution_count": 39,
   "metadata": {},
   "outputs": [
    {
     "name": "stdout",
     "output_type": "stream",
     "text": [
      "   one  two\n",
      "a  4.0  NaN\n",
      "b  8.2 -5.5\n",
      "c  NaN  NaN\n",
      "d  1.4 -6.7\n",
      "\n",
      "one    13.6\n",
      "two   -12.2\n",
      "dtype: float64\n",
      "\n",
      "a    4.0\n",
      "b    2.7\n",
      "c    0.0\n",
      "d   -5.3\n",
      "dtype: float64\n"
     ]
    }
   ],
   "source": [
    "dff = pd.DataFrame([[4,np.nan], [8.2, -5.5],\n",
    "                   [np.nan, np.nan], [1.4, -6.7]],\n",
    "                   index=['a', 'b', 'c', 'd'], columns=['one', 'two'])\n",
    "\n",
    "print(dff)\n",
    "print()\n",
    "print(dff.sum())\n",
    "print()\n",
    "print(dff.sum(axis='columns'))# rows wise"
   ]
  },
  {
   "cell_type": "code",
   "execution_count": 40,
   "metadata": {},
   "outputs": [
    {
     "name": "stdout",
     "output_type": "stream",
     "text": [
      "   one  two\n",
      "a  4.0  NaN\n",
      "b  8.2 -5.5\n",
      "c  NaN  NaN\n",
      "d  1.4 -6.7\n",
      "\n",
      "a    4.00\n",
      "b    1.35\n",
      "c     NaN\n",
      "d   -2.65\n",
      "dtype: float64\n"
     ]
    }
   ],
   "source": [
    "print(dff)\n",
    "n = dff.mean(axis='columns') #its divide with 1, \n",
    "print()\n",
    "print(n)"
   ]
  },
  {
   "cell_type": "code",
   "execution_count": 41,
   "metadata": {},
   "outputs": [
    {
     "name": "stdout",
     "output_type": "stream",
     "text": [
      "   one  two\n",
      "a  4.0  NaN\n",
      "b  8.2 -5.5\n",
      "c  NaN  NaN\n",
      "d  1.4 -6.7\n",
      "\n",
      "a     NaN\n",
      "b    1.35\n",
      "c     NaN\n",
      "d   -2.65\n",
      "dtype: float64\n"
     ]
    }
   ],
   "source": [
    "print(dff)\n",
    "n = dff.mean(axis='columns', skipna=False) #its divide with 0\n",
    "print()\n",
    "print(n)"
   ]
  },
  {
   "cell_type": "markdown",
   "metadata": {},
   "source": [
    "# Unique Values"
   ]
  },
  {
   "cell_type": "code",
   "execution_count": 42,
   "metadata": {},
   "outputs": [
    {
     "name": "stdout",
     "output_type": "stream",
     "text": [
      "   one  two  three  four\n",
      "a  1.4  1.7    1.4   NaN\n",
      "b  7.1 -4.5    NaN   1.5\n",
      "c  1.3  2.4    NaN   4.5\n",
      "d  3.4  5.5    6.5   3.3\n",
      "\n",
      "<bound method Series.unique of a    1.4\n",
      "b    7.1\n",
      "c    1.3\n",
      "d    3.4\n",
      "Name: one, dtype: float64>\n"
     ]
    },
    {
     "data": {
      "text/plain": [
       "1.4    1\n",
       "6.5    1\n",
       "Name: three, dtype: int64"
      ]
     },
     "execution_count": 42,
     "metadata": {},
     "output_type": "execute_result"
    }
   ],
   "source": [
    "d = pd.DataFrame([\n",
    "                  [1.4, 1.7, 1.4, np.nan], [7.1, -4.5, np.nan, 1.5], \n",
    "                  [1.3,2.4,np.nan,4.5], [3.4, 5.5, 6.5, 3.3]\n",
    "               ], index=['a', 'b', 'c','d'], columns=['one', 'two', 'three', 'four'])\n",
    "\n",
    "print(d)\n",
    "print()\n",
    "print(d['one'].unique), (d['three'].unique)\n",
    "d['three'].value_counts()"
   ]
  },
  {
   "cell_type": "markdown",
   "metadata": {},
   "source": [
    "# How to Reindex and use of ffill method"
   ]
  },
  {
   "cell_type": "code",
   "execution_count": 43,
   "metadata": {},
   "outputs": [
    {
     "name": "stdout",
     "output_type": "stream",
     "text": [
      "0      blue\n",
      "3     green\n",
      "6    yellow\n",
      "dtype: object\n",
      "\n",
      "0      blue\n",
      "1       NaN\n",
      "2       NaN\n",
      "3     green\n",
      "4       NaN\n",
      "5       NaN\n",
      "6    yellow\n",
      "7       NaN\n",
      "8       NaN\n",
      "dtype: object\n",
      "\n",
      "0      blue\n",
      "1      blue\n",
      "2      blue\n",
      "3     green\n",
      "4     green\n",
      "5     green\n",
      "6    yellow\n",
      "7    yellow\n",
      "8    yellow\n",
      "dtype: object\n"
     ]
    }
   ],
   "source": [
    "obj0 = pd.Series(['blue', 'green', 'yellow'], index= [0, 3, 6])\n",
    "\n",
    "print(obj0)\n",
    "print()\n",
    "obj = obj0.reindex(range(9))\n",
    "print(obj)\n",
    "print()\n",
    "objj = obj0.reindex(range(9), method='ffill')\n",
    "print(objj)"
   ]
  },
  {
   "cell_type": "code",
   "execution_count": 44,
   "metadata": {},
   "outputs": [
    {
     "name": "stdout",
     "output_type": "stream",
     "text": [
      "   Sindh  Punjab  Balochistan\n",
      "a      0       1            2\n",
      "b      3       4            5\n",
      "c      6       7            8\n",
      "\n",
      "   Sindh  Punjab  Balochistan\n",
      "a    0.0     1.0          2.0\n",
      "b    3.0     4.0          5.0\n",
      "c    6.0     7.0          8.0\n",
      "d    NaN     NaN          NaN\n",
      "\n",
      "   Sindh  Punjab  Balochistan\n",
      "a      0       1            2\n",
      "b      3       4            5\n",
      "c      6       7            8\n",
      "d      6       7            8\n"
     ]
    }
   ],
   "source": [
    "states = pd.DataFrame(np.arange(9).reshape(3,3),\n",
    "                     index=['a', 'b', 'c',], columns= ['Sindh', 'Punjab', 'Balochistan'])\n",
    "\n",
    "print(states)\n",
    "print()\n",
    "st = states.reindex(['a', 'b', 'c', 'd']) #without perameter method\n",
    "print(st)\n",
    "print()\n",
    "stt = states.reindex(['a', 'b', 'c', 'd'], method='ffill' ) #with perameter method ffill\n",
    "print(stt)"
   ]
  },
  {
   "cell_type": "markdown",
   "metadata": {},
   "source": [
    "# Column name changig with reindex method"
   ]
  },
  {
   "cell_type": "code",
   "execution_count": 45,
   "metadata": {},
   "outputs": [
    {
     "name": "stdout",
     "output_type": "stream",
     "text": [
      "   Sindh  Punjab  Balochistan\n",
      "a      0       1            2\n",
      "b      3       4            5\n",
      "c      6       7            8\n",
      "\n",
      "   Sindh  Punjab  Balochistan  KPK\n",
      "a      0       1            2    1\n",
      "b      3       4            5    4\n",
      "c      6       7            8    7\n"
     ]
    }
   ],
   "source": [
    "states = pd.DataFrame(np.arange(9).reshape(3,3),\n",
    "                     index=['a', 'b', 'c',], columns= ['Sindh', 'Punjab', 'Balochistan'])\n",
    "\n",
    "print(states)\n",
    "print()\n",
    "states_name= ['Sindh', 'Punjab', 'Balochistan', 'KPK']\n",
    "\n",
    "s = states.reindex(columns=states_name, method='ffill') # if we did not use method ffill value was show nan\n",
    "print(s)"
   ]
  },
  {
   "cell_type": "markdown",
   "metadata": {},
   "source": [
    "# Indexing selection and filtering"
   ]
  },
  {
   "cell_type": "code",
   "execution_count": 46,
   "metadata": {},
   "outputs": [
    {
     "name": "stdout",
     "output_type": "stream",
     "text": [
      "        one  two  three  four\n",
      "Amjad     4    5      6     7\n",
      "Ali       8    9     10    11\n",
      "Younis   12   13     14    15\n",
      "\n",
      "Amjad      6\n",
      "Ali       10\n",
      "Younis    14\n",
      "Name: three, dtype: int32\n"
     ]
    }
   ],
   "source": [
    "data_df = pd.DataFrame(np.arange(16).reshape(4,4),\n",
    "                       index= ['Asif', 'Amjad', 'Ali', 'Younis'],\n",
    "                       columns=['one', 'two', 'three', 'four'])\n",
    "\n",
    "#print(data_df, \"\\n\")\n",
    "#df2 = (data_df[ ['one', 'three'] ]) # its selection\n",
    "#print(df2)\n",
    "#print(data_df[2:]) #same like numpy only two rows print, fillter\n",
    "#print(data_df['one']) #its dictionary like style only one column values are print\n",
    "#print(data_df.one) #its attribute style \n",
    "#print(data_df.one[2:]) #filter on both rows and columns\n",
    "\n",
    "#conditional selection\n",
    "print(data_df[data_df['three'] > 5]) # in this method three columns values is grater than 5\n",
    "print()\n",
    "print(data_df.three[data_df['three'] > 5]) #if we want particular column\n"
   ]
  },
  {
   "cell_type": "code",
   "execution_count": null,
   "metadata": {},
   "outputs": [],
   "source": []
  },
  {
   "cell_type": "code",
   "execution_count": 47,
   "metadata": {},
   "outputs": [
    {
     "name": "stdout",
     "output_type": "stream",
     "text": [
      "        one  two  three  four\n",
      "Asif      0    1      2     3\n",
      "Amjad     4    5      6     7\n",
      "Ali       8    9     10    11\n",
      "Younis   12   13     14    15 \n",
      "\n",
      "        four  one  two\n",
      "Ali       11    8    9\n",
      "Younis    15   12   13\n",
      "        one  two  three  four\n",
      "Asif      0    1      2     3\n",
      "Amjad     4    5      6     7\n",
      "Ali       8    9     10    11\n",
      "Younis   12   13     14    15\n"
     ]
    }
   ],
   "source": [
    "data_df = pd.DataFrame(np.arange(16).reshape(4,4),\n",
    "                       index= ['Asif', 'Amjad', 'Ali', 'Younis'],\n",
    "                       columns=['one', 'two', 'three', 'four'])\n",
    "\n",
    "print(data_df, \"\\n\")\n",
    "#in the loc method specify row label\n",
    "#then specify columns name\n",
    "# remember multiple columns names require array notation\n",
    "#print(data_df.loc[['Amjad'], ['two', 'three']])\n",
    "#print(data_df.loc['Amjad']) # without specify columns names\n",
    "\n",
    "print(data_df.iloc[2:, [3, 0, 1]]) #using number instead of labels\n",
    "print(data_df.iloc[:])\n"
   ]
  },
  {
   "cell_type": "code",
   "execution_count": null,
   "metadata": {},
   "outputs": [],
   "source": []
  }
 ],
 "metadata": {
  "kernelspec": {
   "display_name": "Python 3",
   "language": "python",
   "name": "python3"
  },
  "language_info": {
   "codemirror_mode": {
    "name": "ipython",
    "version": 3
   },
   "file_extension": ".py",
   "mimetype": "text/x-python",
   "name": "python",
   "nbconvert_exporter": "python",
   "pygments_lexer": "ipython3",
   "version": "3.7.3"
  }
 },
 "nbformat": 4,
 "nbformat_minor": 2
}
