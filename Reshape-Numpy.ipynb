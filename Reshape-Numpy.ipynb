{
 "cells": [
  {
   "cell_type": "code",
   "execution_count": 1,
   "metadata": {},
   "outputs": [],
   "source": [
    "import numpy as np"
   ]
  },
  {
   "cell_type": "code",
   "execution_count": 6,
   "metadata": {},
   "outputs": [],
   "source": [
    "x=np.random.randn(4,5)"
   ]
  },
  {
   "cell_type": "code",
   "execution_count": 7,
   "metadata": {},
   "outputs": [
    {
     "data": {
      "text/plain": [
       "array([[ 0.49068513,  1.09779123, -0.87723986,  0.28527981, -0.71667556],\n",
       "       [ 1.34348955, -1.55713664, -0.03660082,  1.67335169,  0.72719099],\n",
       "       [ 1.00958938,  0.16718296, -0.84951903,  0.59640289, -2.11101036],\n",
       "       [ 1.20508281, -0.63317264,  0.46163026, -1.32035012, -0.94610784]])"
      ]
     },
     "execution_count": 7,
     "metadata": {},
     "output_type": "execute_result"
    }
   ],
   "source": [
    "x"
   ]
  },
  {
   "cell_type": "code",
   "execution_count": 9,
   "metadata": {},
   "outputs": [
    {
     "data": {
      "text/plain": [
       "array([[[ 0.49068513,  1.09779123, -0.87723986,  0.28527981,\n",
       "         -0.71667556],\n",
       "        [ 1.34348955, -1.55713664, -0.03660082,  1.67335169,\n",
       "          0.72719099]],\n",
       "\n",
       "       [[ 1.00958938,  0.16718296, -0.84951903,  0.59640289,\n",
       "         -2.11101036],\n",
       "        [ 1.20508281, -0.63317264,  0.46163026, -1.32035012,\n",
       "         -0.94610784]]])"
      ]
     },
     "execution_count": 9,
     "metadata": {},
     "output_type": "execute_result"
    }
   ],
   "source": [
    "x.reshape((2,2,5))"
   ]
  },
  {
   "cell_type": "code",
   "execution_count": 10,
   "metadata": {},
   "outputs": [
    {
     "data": {
      "text/plain": [
       "array([[[ 0.49068513,  1.09779123, -0.87723986,  0.28527981,\n",
       "         -0.71667556],\n",
       "        [ 1.00958938,  0.16718296, -0.84951903,  0.59640289,\n",
       "         -2.11101036]],\n",
       "\n",
       "       [[ 1.34348955, -1.55713664, -0.03660082,  1.67335169,\n",
       "          0.72719099],\n",
       "        [ 1.20508281, -0.63317264,  0.46163026, -1.32035012,\n",
       "         -0.94610784]]])"
      ]
     },
     "execution_count": 10,
     "metadata": {},
     "output_type": "execute_result"
    }
   ],
   "source": [
    "x.reshape((2,2,5),order=\"F\")"
   ]
  },
  {
   "cell_type": "code",
   "execution_count": 11,
   "metadata": {},
   "outputs": [
    {
     "data": {
      "text/plain": [
       "array([[[ 0.49068513,  1.09779123, -0.87723986,  0.28527981,\n",
       "         -0.71667556],\n",
       "        [ 1.34348955, -1.55713664, -0.03660082,  1.67335169,\n",
       "          0.72719099]],\n",
       "\n",
       "       [[ 1.00958938,  0.16718296, -0.84951903,  0.59640289,\n",
       "         -2.11101036],\n",
       "        [ 1.20508281, -0.63317264,  0.46163026, -1.32035012,\n",
       "         -0.94610784]]])"
      ]
     },
     "execution_count": 11,
     "metadata": {},
     "output_type": "execute_result"
    }
   ],
   "source": [
    "x.reshape((2,2,-1))"
   ]
  },
  {
   "cell_type": "code",
   "execution_count": 12,
   "metadata": {},
   "outputs": [
    {
     "data": {
      "text/plain": [
       "array([[ 0.49068513,  1.09779123, -0.87723986,  0.28527981, -0.71667556],\n",
       "       [ 1.34348955, -1.55713664, -0.03660082,  1.67335169,  0.72719099],\n",
       "       [ 1.00958938,  0.16718296, -0.84951903,  0.59640289, -2.11101036],\n",
       "       [ 1.20508281, -0.63317264,  0.46163026, -1.32035012, -0.94610784]])"
      ]
     },
     "execution_count": 12,
     "metadata": {},
     "output_type": "execute_result"
    }
   ],
   "source": [
    "x"
   ]
  },
  {
   "cell_type": "code",
   "execution_count": 15,
   "metadata": {},
   "outputs": [
    {
     "data": {
      "text/plain": [
       "array([ 0.49068513,  1.09779123, -0.87723986,  0.28527981, -0.71667556,\n",
       "        1.34348955, -1.55713664, -0.03660082,  1.67335169,  0.72719099,\n",
       "        1.00958938,  0.16718296, -0.84951903,  0.59640289, -2.11101036,\n",
       "        1.20508281, -0.63317264,  0.46163026, -1.32035012, -0.94610784])"
      ]
     },
     "execution_count": 15,
     "metadata": {},
     "output_type": "execute_result"
    }
   ],
   "source": [
    "x.ravel()"
   ]
  },
  {
   "cell_type": "code",
   "execution_count": 16,
   "metadata": {},
   "outputs": [
    {
     "data": {
      "text/plain": [
       "array([ 0.49068513,  1.09779123, -0.87723986,  0.28527981, -0.71667556,\n",
       "        1.34348955, -1.55713664, -0.03660082,  1.67335169,  0.72719099,\n",
       "        1.00958938,  0.16718296, -0.84951903,  0.59640289, -2.11101036,\n",
       "        1.20508281, -0.63317264,  0.46163026, -1.32035012, -0.94610784])"
      ]
     },
     "execution_count": 16,
     "metadata": {},
     "output_type": "execute_result"
    }
   ],
   "source": [
    "x.flatten()"
   ]
  },
  {
   "cell_type": "code",
   "execution_count": null,
   "metadata": {},
   "outputs": [],
   "source": []
  }
 ],
 "metadata": {
  "kernelspec": {
   "display_name": "Python 3",
   "language": "python",
   "name": "python3"
  },
  "language_info": {
   "codemirror_mode": {
    "name": "ipython",
    "version": 3
   },
   "file_extension": ".py",
   "mimetype": "text/x-python",
   "name": "python",
   "nbconvert_exporter": "python",
   "pygments_lexer": "ipython3",
   "version": "3.7.3"
  }
 },
 "nbformat": 4,
 "nbformat_minor": 2
}
